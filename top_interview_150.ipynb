{
 "cells": [
  {
   "cell_type": "code",
   "execution_count": 17,
   "metadata": {},
   "outputs": [
    {
     "name": "stdout",
     "output_type": "stream",
     "text": [
      "r2\n",
      "0\n",
      "2\n",
      "0\n",
      "[3, 2, 2, 3]\n",
      "r1\n",
      "1\n",
      "1\n",
      "1\n",
      "[2, 2, 3, 3]\n"
     ]
    },
    {
     "data": {
      "text/plain": [
       "1"
      ]
     },
     "execution_count": 17,
     "metadata": {},
     "output_type": "execute_result"
    }
   ],
   "source": [
    "# 27. remove element\n",
    "def removeElement(nums, val):\n",
    "    \"\"\"\n",
    "    :type nums: List[int]\n",
    "    :type val: int\n",
    "    :rtype: int\n",
    "    \"\"\"\n",
    "    head_pt = 0\n",
    "    tail_pt = len(nums) - 1\n",
    "    k = 0\n",
    "    while head_pt < tail_pt:\n",
    "        if nums[head_pt] == val and nums[tail_pt] != val:\n",
    "            print(\"r1\")\n",
    "            nums[head_pt], nums[tail_pt] = nums[tail_pt], nums[head_pt]\n",
    "            head_pt += 1\n",
    "            tail_pt -= 1\n",
    "            k += 1\n",
    "        elif nums[head_pt] == val and nums[tail_pt] == val:\n",
    "            print(\"r2\")\n",
    "            tail_pt -= 1\n",
    "        elif nums[head_pt] != val and nums[tail_pt] != val:\n",
    "            print(\"r3\")\n",
    "            head_pt += 1\n",
    "            k += 1\n",
    "        else: # head is not val and tail is val\n",
    "            print(\"r4\")\n",
    "            tail_pt -= 1\n",
    "            head_pt += 1\n",
    "            k += 1\n",
    "        print(head_pt)\n",
    "        print(tail_pt)\n",
    "        print(k)\n",
    "        print(nums)\n",
    "    return k\n",
    "\n",
    "removeElement([3,2,2,3], 3)"
   ]
  },
  {
   "cell_type": "code",
   "execution_count": 26,
   "metadata": {},
   "outputs": [
    {
     "name": "stdout",
     "output_type": "stream",
     "text": [
      "True\n"
     ]
    }
   ],
   "source": [
    "# 55 jump game\n",
    "\n",
    "def canJump(nums):\n",
    "    \"\"\"\n",
    "    :type nums: List[int]\n",
    "    :rtype: bool\n",
    "    \"\"\"\n",
    "    length = len(nums)\n",
    "    pt = 0\n",
    "    # res = False\n",
    "    while pt < length - 1:\n",
    "        if nums[pt] == 0:\n",
    "            return False\n",
    "        if nums[pt] + pt >= length - 1:\n",
    "            return True\n",
    "        pt = max([i for i in range(min(nums[pt] + pt + 1, length)- 1, pt, -1)], key = lambda t: nums[t] + t)\n",
    "    # return True\n",
    "\n",
    "print(canJump([4,2,0,0,1,1,4,4,4,0,4,0]))"
   ]
  },
  {
   "cell_type": "code",
   "execution_count": 24,
   "metadata": {},
   "outputs": [
    {
     "name": "stdout",
     "output_type": "stream",
     "text": [
      "[4, 3, 2, 1]\n",
      "4\n"
     ]
    }
   ],
   "source": [
    "length = 12\n",
    "nums = [4,2,0,0,1,1,4,4,4,0,4,0]\n",
    "pt = 0\n",
    "print([i for i in range(min(nums[pt] + pt + 1, length)- 1, pt, -1)])\n",
    "print(max([i for i in range(min(nums[pt] + pt + 1, length)- 1, pt, -1)], key = lambda t: nums[t]+ t))"
   ]
  },
  {
   "cell_type": "code",
   "execution_count": null,
   "metadata": {},
   "outputs": [],
   "source": [
    "# 88 merge sort array\n",
    "\n",
    "def merge(nums1, m, nums2, n):\n",
    "    \"\"\"\n",
    "    :type nums1: List[int]\n",
    "    :type m: int\n",
    "    :type nums2: List[int]\n",
    "    :type n: int\n",
    "    :rtype: None Do not return anything, modify nums1 in-place instead.\n",
    "    \"\"\"\n",
    "    pt1 = 0\n",
    "    pt2 = 0\n",
    "    nums11 = nums1[:m]\n",
    "    count = 0\n",
    "    while (pt1 < m) and (pt2 < n):\n",
    "        if nums11[pt1] <= nums2[pt2]:\n",
    "            nums1[count] = nums11[pt1]\n",
    "            pt1 += 1\n",
    "        else:\n",
    "            nums1[count] = nums2[pt2]\n",
    "            pt2 += 1\n",
    "        count += 1\n",
    "    print(count)\n",
    "    print(pt2)\n",
    "    print(n)\n",
    "    if pt1 == m:\n",
    "        while pt2 < n:\n",
    "            nums1[count] = nums2[pt2]\n",
    "            count += 1\n",
    "            pt2 += 1\n",
    "\n",
    "\n",
    "    return nums1\n",
    "\n",
    "\n",
    "merge([1,2,3,0,0,0], 3, [2,5,6], 3)"
   ]
  },
  {
   "cell_type": "code",
   "execution_count": 7,
   "metadata": {},
   "outputs": [
    {
     "data": {
      "text/plain": [
       "3"
      ]
     },
     "execution_count": 7,
     "metadata": {},
     "output_type": "execute_result"
    }
   ],
   "source": [
    "# 134 \n",
    "def canCompleteCircuit(gas, cost):\n",
    "    \"\"\"\n",
    "    :type gas: List[int]\n",
    "    :type cost: List[int]\n",
    "    :rtype: int\n",
    "    \"\"\"\n",
    "    length = len(gas)\n",
    "    for i in range(length):\n",
    "        remain = 0\n",
    "        station = 0\n",
    "        for j in range(length):\n",
    "            postion = (i+j) % length\n",
    "            remain = remain + gas[postion] - cost[postion]\n",
    "            print(remain)\n",
    "            if remain >= 0:\n",
    "                station += 1\n",
    "            else:\n",
    "                break\n",
    "        if station == length:\n",
    "            return i\n",
    "    return -1\n",
    "\n",
    "\n",
    "def canCompleteCircuit(gas, cost):\n",
    "    \"\"\"\n",
    "    :type gas: List[int]\n",
    "    :type cost: List[int]\n",
    "    :rtype: int\n",
    "    \"\"\"\n",
    "    length = len(gas)\n",
    "    result = [gas[i] - cost[i] for i in range(length)]\n",
    "    if sum(result) < 0:\n",
    "        return -1\n",
    "    else:\n",
    "        m = 0\n",
    "        for i in range(length):\n",
    "            if gas[i] > gas[m]:\n",
    "                m = i\n",
    "        return (i-1) % length\n",
    "\n",
    "\n",
    "canCompleteCircuit([5,1,2,3,4], [4,4,1,5,1])"
   ]
  },
  {
   "cell_type": "code",
   "execution_count": null,
   "metadata": {},
   "outputs": [],
   "source": [
    "# 238 product of array except itself\n",
    "nums = [1,2,3,4,5]\n",
    "n = len(nums)\n",
    "left_product = [1] * n\n",
    "right_prodct = [1] * n\n",
    "\n",
    "for i in range(1, n):\n",
    "    left_product[i] = left_product[i - 1] * nums[i - 1]\n",
    "\n",
    "for i in range(n-2, -1 , -1):\n",
    "    right_prodct[i] = right_prodct[i + 1] * nums[i + 1]\n",
    "\n",
    "result = [left_product[i] * right_prodct[i] for i in range(n)]\n",
    "\n",
    "\n",
    "print(left_product)\n",
    "print(right_prodct)\n",
    "result"
   ]
  },
  {
   "cell_type": "code",
   "execution_count": 53,
   "metadata": {},
   "outputs": [
    {
     "name": "stdout",
     "output_type": "stream",
     "text": [
      "[6, 5, 3, 1, 0]\n",
      "1\n",
      "2\n",
      "3\n",
      "3\n",
      "3\n"
     ]
    }
   ],
   "source": [
    "# 274 h index\n",
    "def hIndex(citations):\n",
    "    \"\"\"\n",
    "    :type citations: List[int]\n",
    "    :rtype: int\n",
    "    \"\"\"\n",
    "    citations = sorted(citations, reverse=True)\n",
    "    print(citations)\n",
    "    h = 0\n",
    "    pt = 0\n",
    "    m = 0\n",
    "    length = len(citations)\n",
    "    while pt < length:\n",
    "        if pt + 1 > h and citations[pt] > h:\n",
    "            h += 1\n",
    "        pt += 1\n",
    "        print(h)\n",
    "    \n",
    "        \n",
    "\n",
    "hIndex(citations = [3,0,6,1,5])"
   ]
  },
  {
   "cell_type": "code",
   "execution_count": 63,
   "metadata": {},
   "outputs": [
    {
     "name": "stdout",
     "output_type": "stream",
     "text": [
      "[1, 1, 2, 6, 24]\n",
      "[120, 60, 20, 5, 1]\n"
     ]
    },
    {
     "data": {
      "text/plain": [
       "[120, 60, 40, 30, 24]"
      ]
     },
     "execution_count": 63,
     "metadata": {},
     "output_type": "execute_result"
    }
   ],
   "source": [
    "nums = [1,2,3,4,5]\n",
    "n = len(nums)\n",
    "left_product = [1] * n\n",
    "right_prodct = [1] * n\n",
    "\n",
    "for i in range(1, n):\n",
    "    left_product[i] = left_product[i - 1] * nums[i - 1]\n",
    "\n",
    "for i in range(n-2, -1 , -1):\n",
    "    right_prodct[i] = right_prodct[i + 1] * nums[i + 1]\n",
    "\n",
    "result = [left_product[i] * right_prodct[i] for i in range(n)]\n",
    "\n",
    "\n",
    "print(left_product)\n",
    "print(right_prodct)\n",
    "result"
   ]
  },
  {
   "cell_type": "code",
   "execution_count": 55,
   "metadata": {},
   "outputs": [
    {
     "name": "stdout",
     "output_type": "stream",
     "text": [
      "4\n",
      "3\n",
      "2\n",
      "1\n",
      "0\n"
     ]
    }
   ],
   "source": [
    "for i in range(n-1, -1 , -1):\n",
    "    print(i)"
   ]
  },
  {
   "cell_type": "code",
   "execution_count": null,
   "metadata": {},
   "outputs": [],
   "source": []
  }
 ],
 "metadata": {
  "kernelspec": {
   "display_name": "Python 3",
   "language": "python",
   "name": "python3"
  },
  "language_info": {
   "codemirror_mode": {
    "name": "ipython",
    "version": 3
   },
   "file_extension": ".py",
   "mimetype": "text/x-python",
   "name": "python",
   "nbconvert_exporter": "python",
   "pygments_lexer": "ipython3",
   "version": "3.9.1"
  },
  "orig_nbformat": 4
 },
 "nbformat": 4,
 "nbformat_minor": 2
}
